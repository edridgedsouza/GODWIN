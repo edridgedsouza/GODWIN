{
 "cells": [
  {
   "cell_type": "code",
   "execution_count": 1,
   "metadata": {
    "ExecuteTime": {
     "end_time": "2021-03-25T05:22:23.976071Z",
     "start_time": "2021-03-25T05:22:23.092738Z"
    }
   },
   "outputs": [],
   "source": [
    "# -*- coding: utf-8 -*-\n",
    "\"\"\"\n",
    "Created on Fri Dec 12 22:27:52 2014\n",
    "\n",
    "@author: LukasHalim\n",
    "Forked by @edridgedsouza\n",
    "This notebook is simply for scraping and writing the results to the database\n",
    "Visualizations in Visualization.ipynb\n",
    "\n",
    "For each post, determine earliest failure\n",
    "- Sort the comments for each post in ascending order\n",
    "- Create a variable for the comment number within each post\n",
    "- In cases where there is a failure, identify the index of first failing comment\n",
    "- In cases where there is not a failure, identify the total number of comments\n",
    "- Before visualizing, add 1 to the index of failing comments \n",
    "  to correct the index vs length difference\n",
    "\"\"\"\n",
    "\n",
    "import pandas as pd\n",
    "import matplotlib.pyplot as plt\n",
    "#import csv\n",
    "\n",
    "import sqlite3\n",
    "from godwin import Scraper, Database\n",
    "\n",
    "db = Database('Godwin.db')\n",
    "# db.reset_db()\n",
    "s = Scraper(db)"
   ]
  },
  {
   "cell_type": "code",
   "execution_count": null,
   "metadata": {
    "ExecuteTime": {
     "start_time": "2021-03-25T05:36:16.002Z"
    },
    "scrolled": true
   },
   "outputs": [],
   "source": [
    "s.scrape_subreddits(time_filter='month', limit=100)  # Executed week of March 21, 2021"
   ]
  },
  {
   "cell_type": "code",
   "execution_count": null,
   "metadata": {
    "ExecuteTime": {
     "start_time": "2021-03-25T05:36:14.202Z"
    },
    "scrolled": true
   },
   "outputs": [
    {
     "name": "stderr",
     "output_type": "stream",
     "text": [
      "Scraping top posts of month from /r/aboringdystopia: 100%|██████████| 100/100 [00:00<00:00, 651.74it/s]\n",
      "Scraping most commented posts from /r/aboringdystopia: 100%|██████████| 100/100 [00:00<00:00, 682.73it/s]\n",
      "Scraped 1 of 46 subreddits\n",
      "Scraping top posts of month from /r/againsthatesubreddits: 100%|██████████| 100/100 [00:00<00:00, 913.05it/s]\n",
      "Scraping most commented posts from /r/againsthatesubreddits: 100%|██████████| 100/100 [00:00<00:00, 686.05it/s]\n",
      "Scraped 2 of 46 subreddits\n",
      "Scraping top posts of month from /r/anarchism: 100%|██████████| 100/100 [00:03<00:00, 25.93it/s]\n",
      "Scraping most commented posts from /r/anarchism: 100%|██████████| 100/100 [00:00<00:00, 682.93it/s]\n",
      "Scraped 3 of 46 subreddits\n",
      "Scraping top posts of month from /r/anarcho_capitalism: 100%|██████████| 100/100 [00:09<00:00, 10.35it/s]\n",
      "Scraping most commented posts from /r/anarcho_capitalism: 100%|██████████| 100/100 [00:00<00:00, 694.89it/s]\n",
      "Scraped 4 of 46 subreddits\n",
      "Scraping top posts of month from /r/asktrumpsupporters: 100%|██████████| 47/47 [00:00<00:00, 666.43it/s]\n",
      "Scraping most commented posts from /r/asktrumpsupporters: 100%|██████████| 100/100 [00:00<00:00, 650.93it/s]\n",
      "Scraped 5 of 46 subreddits\n",
      "Scraping top posts of month from /r/badeconomics: 100%|██████████| 15/15 [00:00<00:00, 615.14it/s]\n",
      "Scraping most commented posts from /r/badeconomics: 100%|██████████| 100/100 [00:00<00:00, 692.52it/s]\n",
      "Scraped 6 of 46 subreddits\n",
      "Scraping top posts of month from /r/breadtube: 100%|██████████| 100/100 [00:01<00:00, 55.78it/s]\n",
      "Scraping most commented posts from /r/breadtube: 100%|██████████| 100/100 [00:00<00:00, 692.25it/s]\n",
      "Scraped 7 of 46 subreddits\n",
      "Scraping top posts of month from /r/communism: 100%|██████████| 100/100 [00:04<00:00, 23.11it/s]\n",
      "Scraping most commented posts from /r/communism: 100%|██████████| 100/100 [00:00<00:00, 680.30it/s]\n",
      "Scraped 8 of 46 subreddits\n",
      "Scraping top posts of month from /r/communism101: 100%|██████████| 100/100 [00:02<00:00, 39.76it/s]\n",
      "Scraping most commented posts from /r/communism101: 100%|██████████| 100/100 [00:00<00:00, 669.21it/s]\n",
      "Scraped 9 of 46 subreddits\n",
      "Scraping top posts of month from /r/completeanarchy: 100%|██████████| 100/100 [00:02<00:00, 35.37it/s]\n",
      "Scraping most commented posts from /r/completeanarchy: 100%|██████████| 100/100 [00:00<00:00, 677.00it/s]\n",
      "Scraped 10 of 46 subreddits\n",
      "Scraping top posts of month from /r/conservative: 100%|██████████| 100/100 [00:04<00:00, 20.68it/s]\n",
      "Scraping most commented posts from /r/conservative: 100%|██████████| 100/100 [00:00<00:00, 692.70it/s]\n",
      "Scraped 11 of 46 subreddits\n",
      "Scraping top posts of month from /r/conservatives: 100%|██████████| 100/100 [00:05<00:00, 17.58it/s]\n",
      "Scraping most commented posts from /r/conservatives: 100%|██████████| 100/100 [00:00<00:00, 685.77it/s]\n",
      "Scraped 12 of 46 subreddits\n",
      "Scraping top posts of month from /r/conspiracy: 100%|██████████| 100/100 [00:09<00:00, 10.05it/s]\n",
      "Scraping most commented posts from /r/conspiracy: 100%|██████████| 100/100 [00:00<00:00, 687.97it/s]\n",
      "Scraped 13 of 46 subreddits\n",
      "Scraping top posts of month from /r/economics: 100%|██████████| 100/100 [00:07<00:00, 13.22it/s]\n",
      "Scraping most commented posts from /r/economics: 100%|██████████| 100/100 [00:00<00:00, 653.79it/s]\n",
      "Scraped 14 of 46 subreddits\n",
      "Scraping top posts of month from /r/enlightenedcentrism: 100%|██████████| 100/100 [00:00<00:00, 741.23it/s]\n",
      "Scraping most commented posts from /r/enlightenedcentrism: 100%|██████████| 100/100 [00:00<00:00, 681.98it/s]\n",
      "Scraped 15 of 46 subreddits\n",
      "Scraping top posts of month from /r/feminism: 100%|██████████| 100/100 [00:02<00:00, 38.37it/s]\n",
      "Scraping most commented posts from /r/feminism: 100%|██████████| 100/100 [00:00<00:00, 680.09it/s]\n",
      "Scraped 16 of 46 subreddits\n",
      "Scraping top posts of month from /r/firearms: 100%|██████████| 100/100 [00:00<00:00, 620.73it/s]\n",
      "Scraping most commented posts from /r/firearms:  34%|███▍      | 34/100 [02:53<05:17,  4.82s/it]"
     ]
    }
   ],
   "source": [
    "s.scrape_subreddits(['aboringdystopia', 'againsthatesubreddits', 'anarchism',\n",
    "                     'anarcho_capitalism', 'asktrumpsupporters', 'badeconomics',\n",
    "                     'breadtube', 'communism', 'communism101', 'completeanarchy',\n",
    "                     'conservative', 'conservatives', 'conspiracy', 'economics',\n",
    "                     'enlightenedcentrism', 'feminism', 'firearms', 'fullcommunism',\n",
    "                     'genzedong', 'guns', 'historyporn', 'kotakuinaction',\n",
    "                     'latestagecapitalism', 'libertarian', 'libertarianmeme',\n",
    "                     'mapporn', 'mensrights', 'moderatepolitics', 'neoliberal',\n",
    "                     'neutralpolitics', 'coronavirus', 'polandball',\n",
    "                     'politicaldiscussion', 'politicalhumor', 'progressive',\n",
    "                     'progun', 'protectandserve', 'russialago', 'socialism',\n",
    "                     'socialism_101', 'subredditdrama', 'theredpill',\n",
    "                     'topmindsofreddit', 'tumblrinaction', 'ukpolitics',\n",
    "                     'vexillology'],\n",
    "                   time_filter='month', limit=100)"
   ]
  },
  {
   "cell_type": "code",
   "execution_count": null,
   "metadata": {},
   "outputs": [],
   "source": [
    "# s.scrape_subreddits(time_filter='year', limit=100)  # Executed week of March 21, 2021"
   ]
  },
  {
   "cell_type": "code",
   "execution_count": null,
   "metadata": {},
   "outputs": [],
   "source": [
    "# s.scrape_subreddits(time_filter='all', limit=100)  # Executed week of March 21, 2021"
   ]
  },
  {
   "cell_type": "code",
   "execution_count": null,
   "metadata": {
    "ExecuteTime": {
     "start_time": "2021-03-25T04:05:01.382Z"
    }
   },
   "outputs": [],
   "source": [
    "# Get data for the last few subs that made it to /r/all or /r/popular\n",
    "# counts = db.get_data().groupby('subreddit')[['post_id']].count().reset_index()\n",
    "# low_count_subs = counts[counts.post_id < 100].sort_values('post_id')['subreddit']\n",
    "\n",
    "# subs = list(low_count_subs)\n",
    "# s.scrape_subreddits(subs, time_filter='month', limit=100)\n",
    "# s.scrape_subreddits(subs, time_filter='year', limit=100)\n",
    "# s.scrape_subreddits(subs, time_filter='all', limit=100)"
   ]
  }
 ],
 "metadata": {
  "kernelspec": {
   "display_name": "Python 3",
   "language": "python",
   "name": "python3"
  },
  "language_info": {
   "codemirror_mode": {
    "name": "ipython",
    "version": 3
   },
   "file_extension": ".py",
   "mimetype": "text/x-python",
   "name": "python",
   "nbconvert_exporter": "python",
   "pygments_lexer": "ipython3",
   "version": "3.6.9"
  }
 },
 "nbformat": 4,
 "nbformat_minor": 2
}
