{
 "cells": [
  {
   "cell_type": "code",
   "execution_count": 1,
   "metadata": {
    "ExecuteTime": {
     "end_time": "2021-03-24T22:44:17.021866Z",
     "start_time": "2021-03-24T22:44:16.247166Z"
    }
   },
   "outputs": [],
   "source": [
    "# -*- coding: utf-8 -*-\n",
    "\"\"\"\n",
    "Created on Fri Dec 12 22:27:52 2014\n",
    "\n",
    "@author: LukasHalim\n",
    "Forked by @edridgedsouza\n",
    "This notebook is simply for scraping and writing the results to the database\n",
    "Visualizations in Visualization.ipynb\n",
    "\n",
    "For each post, determine earliest failure\n",
    "- Sort the comments for each post in ascending order\n",
    "- Create a variable for the comment number within each post\n",
    "- In cases where there is a failure, identify the index of first failing comment\n",
    "- In cases where there is not a failure, identify the total number of comments\n",
    "- Before visualizing, add 1 to the index of failing comments \n",
    "  to correct the index vs length difference\n",
    "\"\"\"\n",
    "\n",
    "import pandas as pd\n",
    "import matplotlib.pyplot as plt\n",
    "#import csv\n",
    "\n",
    "import sqlite3\n",
    "from godwin import Scraper, Database\n",
    "\n",
    "db = Database('Godwin.db')\n",
    "# db.reset_db()\n",
    "s = Scraper(db)"
   ]
  },
  {
   "cell_type": "code",
   "execution_count": null,
   "metadata": {
    "ExecuteTime": {
     "start_time": "2021-03-24T22:58:06.307Z"
    },
    "scrolled": true
   },
   "outputs": [
    {
     "name": "stdout",
     "output_type": "stream",
     "text": [
      "Subreddit /r/politicalcompassmemes top posts forbidden\n"
     ]
    },
    {
     "name": "stderr",
     "output_type": "stream",
     "text": [
      "Scraping most commented posts from /r/politicalcompassmemes: 0it [00:00, ?it/s]\n",
      "Scraped 1 of 228 subreddits\n"
     ]
    },
    {
     "name": "stdout",
     "output_type": "stream",
     "text": [
      "Subreddit /r/politicalcompassmemes top commented posts forbidden\n"
     ]
    },
    {
     "name": "stderr",
     "output_type": "stream",
     "text": [
      "Scraping top posts of month from /r/europe: 100it [00:00, 833.50it/s]\n",
      "Scraping most commented posts from /r/europe: 100it [01:11,  1.40it/s]\n",
      "Scraped 2 of 228 subreddits\n",
      "Scraping top posts of month from /r/teenagers: 100it [00:00, 849.77it/s]\n",
      "Scraping most commented posts from /r/teenagers: 100it [00:47,  2.10it/s]\n",
      "Scraped 3 of 228 subreddits\n",
      "Scraping top posts of month from /r/witcher: 100it [00:00, 920.82it/s]\n",
      "Scraping most commented posts from /r/witcher: 100it [00:41,  2.42it/s]\n",
      "Scraped 4 of 228 subreddits\n",
      "Scraping top posts of month from /r/mechanicalkeyboards: 100it [00:00, 850.11it/s]\n",
      "Scraping most commented posts from /r/mechanicalkeyboards: 100it [00:45,  2.22it/s]\n",
      "Scraped 5 of 228 subreddits\n",
      "Scraping top posts of month from /r/instagram: 100it [00:00, 1274.31it/s]\n",
      "Scraping most commented posts from /r/instagram: 100it [00:35,  2.84it/s]\n",
      "Scraped 6 of 228 subreddits\n",
      "Scraping top posts of month from /r/moviedetails: 100it [00:00, 867.32it/s]\n",
      "Scraping most commented posts from /r/moviedetails: 100it [00:50,  1.99it/s]\n",
      "Scraped 7 of 228 subreddits\n",
      "Scraping top posts of month from /r/fo76: 100it [00:00, 836.97it/s]\n",
      "Scraping most commented posts from /r/fo76: 100it [00:44,  2.23it/s]\n",
      "Scraped 8 of 228 subreddits\n",
      "Scraping top posts of month from /r/whatcouldgowrong: 100it [00:00, 836.92it/s]\n",
      "Scraping most commented posts from /r/whatcouldgowrong: 100it [01:23,  1.20it/s]\n",
      "Scraped 9 of 228 subreddits\n",
      "Scraping top posts of month from /r/totalwar: 100it [00:00, 842.62it/s]\n",
      "Scraping most commented posts from /r/totalwar: 100it [00:42,  2.34it/s]\n",
      "Scraped 10 of 228 subreddits\n",
      "Scraping top posts of month from /r/fortnitebr: 100it [00:00, 762.41it/s]\n",
      "Scraping most commented posts from /r/fortnitebr: 100it [02:06,  1.26s/it]\n",
      "Scraped 11 of 228 subreddits\n",
      "Scraping top posts of month from /r/cringe: 100it [00:00, 792.58it/s]\n",
      "Scraping most commented posts from /r/cringe: 9it [01:18,  8.51s/it]"
     ]
    }
   ],
   "source": [
    "s.scrape_subreddits(time_filter='month', limit=100)  # Executed week of March 21, 2021"
   ]
  },
  {
   "cell_type": "code",
   "execution_count": null,
   "metadata": {},
   "outputs": [],
   "source": [
    "# s.scrape_subreddits(time_filter='year', limit=100)  # Executed week of March 21, 2021"
   ]
  },
  {
   "cell_type": "code",
   "execution_count": null,
   "metadata": {},
   "outputs": [],
   "source": [
    "# s.scrape_subreddits(time_filter='all', limit=100)  # Executed week of March 21, 2021"
   ]
  }
 ],
 "metadata": {
  "kernelspec": {
   "display_name": "Python 3",
   "language": "python",
   "name": "python3"
  },
  "language_info": {
   "codemirror_mode": {
    "name": "ipython",
    "version": 3
   },
   "file_extension": ".py",
   "mimetype": "text/x-python",
   "name": "python",
   "nbconvert_exporter": "python",
   "pygments_lexer": "ipython3",
   "version": "3.6.9"
  }
 },
 "nbformat": 4,
 "nbformat_minor": 2
}
