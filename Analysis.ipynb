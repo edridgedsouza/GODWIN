{
 "cells": [
  {
   "cell_type": "code",
   "execution_count": 1,
   "metadata": {},
   "outputs": [],
   "source": [
    "# -*- coding: utf-8 -*-\n",
    "\"\"\"\n",
    "Created on Fri Dec 12 22:27:52 2014\n",
    "\n",
    "@author: LukasHalim\n",
    "Forked by @edridgedsouza\n",
    "\n",
    "2) For each post, determine earliest failure\n",
    "- Sort the comments for each post in ascending order\n",
    "- Create a variable for the comment number within each post\n",
    "- In cases where there is a failure, identify the first failing comment\n",
    "- In cases where there is not a failure, identify the final comment for the post\n",
    "\n",
    "\n",
    "\"\"\"\n",
    "\n",
    "import pandas as pd\n",
    "import matplotlib.pyplot as plt\n",
    "#import csv\n",
    "\n",
    "import sqlite3\n",
    "from godwin import Scraper, Database\n",
    "\n",
    "db = Database('Godwin.db').reset_db()\n",
    "s = Scraper(db)"
   ]
  },
  {
   "cell_type": "code",
   "execution_count": null,
   "metadata": {},
   "outputs": [
    {
     "name": "stderr",
     "output_type": "stream",
     "text": [
      "Scraping from /r/politicalcompassmemes: 100it [05:26,  2.61s/it]\n",
      "Scraping from /r/europe: 21it [01:57,  4.10s/it]"
     ]
    }
   ],
   "source": [
    "s.scrape_top_subreddits()"
   ]
  },
  {
   "cell_type": "code",
   "execution_count": null,
   "metadata": {},
   "outputs": [],
   "source": []
  },
  {
   "cell_type": "code",
   "execution_count": null,
   "metadata": {},
   "outputs": [],
   "source": [
    "\n",
    "comments_df = pd.read_sql(\"select * from comment\",conn)\n",
    "g = comments_df.groupby('post_id')\n",
    "#Sort the comments for each post in ascending order\n",
    "comments_df['RN'] = g['comment_created'].rank(method='first')\n",
    "#Create a variable for the comment number within each post\n",
    "comments_with_nazi_df = comments_df[comments_df.nazi_in_comment == 1]\n",
    "#Identify posts where there is a mention of Nazi\n",
    "nazi_posts = comments_with_nazi_df['post_id'].unique()\n",
    "\n",
    "#In cases where there is a comparison with Nazis or Hitler, identify the first comment \n",
    "#where the comparison is made\n",
    "mins = comments_with_nazi_df.groupby('post_id')['RN'].idxmin()\n",
    "first_nazi_comment = comments_with_nazi_df.loc[mins]\n",
    "\n",
    "right_censored_posts = comments_df[comments_df.post_id.isin(nazi_posts) == False]\n",
    "maxes = right_censored_posts.groupby('post_id')['RN'].idxmax()\n",
    "final_comment = right_censored_posts.loc[maxes]\n",
    "\n",
    "#combine the censored posts with those where a comparison is made\n",
    "concatenated = pd.concat([first_nazi_comment,final_comment])\n",
    "\n",
    "T = concatenated['RN']\n",
    "E = concatenated['nazi_in_comment']\n",
    "\n",
    "from lifelines import KaplanMeierFitter\n",
    "kmf = KaplanMeierFitter()\n",
    "kmf.fit(T, event_observed=E)\n",
    "kmf.plot()\n",
    "\n",
    "plt.xlim(0,2000);\n",
    "plt.title(\"Reddit Post Lifespan Prior to Mention of Nazi or Hitler\");\n",
    "plt.xlabel(\"Comments\")\n",
    "plt.ylabel(\"Fraciton of Posts Without Mention of Hitler or Nazis\")"
   ]
  }
 ],
 "metadata": {
  "kernelspec": {
   "display_name": "Python 3",
   "language": "python",
   "name": "python3"
  },
  "language_info": {
   "codemirror_mode": {
    "name": "ipython",
    "version": 3
   },
   "file_extension": ".py",
   "mimetype": "text/x-python",
   "name": "python",
   "nbconvert_exporter": "python",
   "pygments_lexer": "ipython3",
   "version": "3.7.0"
  }
 },
 "nbformat": 4,
 "nbformat_minor": 2
}
