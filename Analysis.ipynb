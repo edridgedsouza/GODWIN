{
 "cells": [
  {
   "cell_type": "code",
   "execution_count": 1,
   "metadata": {
    "ExecuteTime": {
     "end_time": "2021-03-24T18:15:24.307411Z",
     "start_time": "2021-03-24T18:15:23.727543Z"
    }
   },
   "outputs": [],
   "source": [
    "# -*- coding: utf-8 -*-\n",
    "\"\"\"\n",
    "Created on Fri Dec 12 22:27:52 2014\n",
    "\n",
    "@author: LukasHalim\n",
    "Forked by @edridgedsouza\n",
    "\n",
    "2) For each post, determine earliest failure\n",
    "- Sort the comments for each post in ascending order\n",
    "- Create a variable for the comment number within each post\n",
    "- In cases where there is a failure, identify the first failing comment\n",
    "- In cases where there is not a failure, identify the final comment for the post\n",
    "\n",
    "\n",
    "\"\"\"\n",
    "\n",
    "import pandas as pd\n",
    "import matplotlib.pyplot as plt\n",
    "#import csv\n",
    "\n",
    "import sqlite3\n",
    "from godwin import Scraper, Database\n",
    "\n",
    "db = Database('Godwin.db')\n",
    "# db.reset_db()\n",
    "s = Scraper(db)"
   ]
  },
  {
   "cell_type": "code",
   "execution_count": null,
   "metadata": {
    "ExecuteTime": {
     "start_time": "2021-03-24T18:29:15.165Z"
    },
    "scrolled": true
   },
   "outputs": [
    {
     "name": "stderr",
     "output_type": "stream",
     "text": [
      "Scraping from /r/politicalcompassmemes: 0it [00:00, ?it/s]\n",
      "Scraped 1 of 200 subreddits\n"
     ]
    },
    {
     "name": "stdout",
     "output_type": "stream",
     "text": [
      "Subreddit politicalcompassmemes forbidden\n"
     ]
    },
    {
     "name": "stderr",
     "output_type": "stream",
     "text": [
      "Scraping from /r/europe: 100it [00:02, 46.23it/s]\n",
      "Scraped 2 of 200 subreddits\n",
      "Scraping from /r/teenagers: 100it [00:02, 43.56it/s]\n",
      "Scraped 3 of 200 subreddits\n",
      "Scraping from /r/witcher: 100it [00:02, 42.65it/s]\n",
      "Scraped 4 of 200 subreddits\n",
      "Scraping from /r/mechanicalkeyboards: 100it [00:02, 44.00it/s]\n",
      "Scraped 5 of 200 subreddits\n",
      "Scraping from /r/instagram: 100it [00:01, 90.67it/s]\n",
      "Scraped 6 of 200 subreddits\n",
      "Scraping from /r/moviedetails: 100it [00:01, 62.30it/s]\n",
      "Scraped 7 of 200 subreddits\n",
      "Scraping from /r/fo76: 100it [00:01, 50.45it/s]\n",
      "Scraped 8 of 200 subreddits\n",
      "Scraping from /r/whatcouldgowrong: 100it [00:02, 40.32it/s]\n",
      "Scraped 9 of 200 subreddits\n",
      "Scraping from /r/totalwar: 100it [00:01, 59.62it/s]\n",
      "Scraped 10 of 200 subreddits\n",
      "Scraping from /r/fortnitebr: 100it [00:02, 37.80it/s]\n",
      "Scraped 11 of 200 subreddits\n",
      "Scraping from /r/cringe: 100it [00:01, 70.91it/s]\n",
      "Scraped 12 of 200 subreddits\n",
      "Scraping from /r/barstoolsports: 100it [00:01, 74.13it/s]\n",
      "Scraped 13 of 200 subreddits\n",
      "Scraping from /r/cringetopia: 0it [00:00, ?it/s]\n",
      "Scraped 14 of 200 subreddits\n"
     ]
    },
    {
     "name": "stdout",
     "output_type": "stream",
     "text": [
      "Subreddit cringetopia forbidden\n"
     ]
    },
    {
     "name": "stderr",
     "output_type": "stream",
     "text": [
      "Scraping from /r/facepalm: 100it [00:02, 41.87it/s]\n",
      "Scraped 15 of 200 subreddits\n",
      "Scraping from /r/books: 100it [00:02, 41.50it/s]\n",
      "Scraped 16 of 200 subreddits\n",
      "Scraping from /r/pokemon: 100it [00:02, 42.74it/s]\n",
      "Scraped 17 of 200 subreddits\n",
      "Scraping from /r/apexlegends: 100it [00:02, 40.55it/s]\n",
      "Scraped 18 of 200 subreddits\n",
      "Scraping from /r/dndnext: 100it [00:01, 65.54it/s]\n",
      "Scraped 19 of 200 subreddits\n",
      "Scraping from /r/trashy: 0it [00:00, ?it/s]\n",
      "Scraped 20 of 200 subreddits\n"
     ]
    },
    {
     "name": "stdout",
     "output_type": "stream",
     "text": [
      "Subreddit trashy forbidden\n"
     ]
    },
    {
     "name": "stderr",
     "output_type": "stream",
     "text": [
      "Scraping from /r/sysadmin: 100it [00:01, 55.80it/s]\n",
      "Scraped 21 of 200 subreddits\n",
      "Scraping from /r/insanepeoplefacebook: 100it [00:01, 67.09it/s]\n",
      "Scraped 22 of 200 subreddits\n",
      "Scraping from /r/apple: 0it [00:00, ?it/s]\n",
      "Scraped 23 of 200 subreddits\n"
     ]
    },
    {
     "name": "stdout",
     "output_type": "stream",
     "text": [
      "Subreddit apple forbidden\n"
     ]
    },
    {
     "name": "stderr",
     "output_type": "stream",
     "text": [
      "Scraping from /r/dataisbeautiful: 100it [00:01, 55.84it/s]\n",
      "Scraped 24 of 200 subreddits\n",
      "Scraping from /r/manga: 100it [00:02, 49.06it/s]\n",
      "Scraped 25 of 200 subreddits\n",
      "Scraping from /r/relationships: 100it [00:01, 65.83it/s]\n",
      "Scraped 26 of 200 subreddits\n",
      "Scraping from /r/iama: 88it [00:01, 46.63it/s]\n",
      "Scraped 27 of 200 subreddits\n",
      "Scraping from /r/valorant: 100it [00:02, 37.15it/s]\n",
      "Scraped 28 of 200 subreddits\n",
      "Scraping from /r/unexpected: 100it [00:02, 35.19it/s]\n",
      "Scraped 29 of 200 subreddits\n",
      "Scraping from /r/askwomen: 100it [00:01, 91.91it/s]\n",
      "Scraped 30 of 200 subreddits\n",
      "Scraping from /r/oddlysatisfying: 100it [00:02, 45.45it/s]\n",
      "Scraped 31 of 200 subreddits\n",
      "Scraping from /r/classicwow: 100it [00:02, 44.55it/s]\n",
      "Scraped 32 of 200 subreddits\n",
      "Scraping from /r/pso2: 100it [00:01, 52.45it/s]\n",
      "Scraped 33 of 200 subreddits\n",
      "Scraping from /r/askscience: 100it [00:01, 65.91it/s]\n",
      "Scraped 34 of 200 subreddits\n",
      "Scraping from /r/tinder: 100it [00:01, 53.63it/s]\n",
      "Scraped 35 of 200 subreddits\n",
      "Scraping from /r/coolguides: 100it [00:02, 45.85it/s]\n",
      "Scraped 36 of 200 subreddits\n",
      "Scraping from /r/iamverybadass: 100it [00:01, 73.15it/s]\n",
      "Scraped 37 of 200 subreddits\n",
      "Scraping from /r/copypasta: 100it [00:02, 38.53it/s]\n",
      "Scraped 38 of 200 subreddits\n",
      "Scraping from /r/askhistorians: 100it [00:01, 85.96it/s]\n",
      "Scraped 39 of 200 subreddits\n",
      "Scraping from /r/onepiece: 100it [00:02, 36.26it/s]\n",
      "Scraped 40 of 200 subreddits\n",
      "Scraping from /r/techsupport: 100it [00:01, 84.63it/s]\n",
      "Scraped 41 of 200 subreddits\n",
      "Scraping from /r/lifeprotips: 100it [00:01, 52.99it/s]\n",
      "Scraped 42 of 200 subreddits\n",
      "Scraping from /r/mildlyinteresting: 100it [00:01, 51.53it/s]\n",
      "Scraped 43 of 200 subreddits\n",
      "Scraping from /r/idiotsincars: 100it [00:02, 38.02it/s]\n",
      "Scraped 44 of 200 subreddits\n",
      "Scraping from /r/twoxchromosomes: 100it [00:02, 34.95it/s]\n",
      "Scraped 45 of 200 subreddits\n",
      "Scraping from /r/hololive: 100it [00:02, 36.67it/s]\n",
      "Scraped 46 of 200 subreddits\n",
      "Scraping from /r/2007scape: 100it [00:02, 45.02it/s]\n",
      "Scraped 47 of 200 subreddits\n",
      "Scraping from /r/codwarzone: 100it [00:02, 44.22it/s]\n",
      "Scraped 48 of 200 subreddits\n",
      "Scraping from /r/xboxone: 100it [00:01, 59.07it/s]\n",
      "Scraped 49 of 200 subreddits\n",
      "Scraping from /r/sex: 100it [00:01, 53.78it/s]\n",
      "Scraped 50 of 200 subreddits\n",
      "Scraping from /r/jokes: 100it [00:02, 45.97it/s]\n",
      "Scraped 51 of 200 subreddits\n",
      "Scraping from /r/winstupidprizes: 100it [00:01, 50.98it/s]\n",
      "Scraped 52 of 200 subreddits\n",
      "Scraping from /r/pathofexile: 100it [00:02, 45.22it/s]\n",
      "Scraped 53 of 200 subreddits\n",
      "Scraping from /r/dnd: 100it [00:02, 47.94it/s]\n",
      "Scraped 54 of 200 subreddits\n",
      "Scraping from /r/natureismetal: 100it [00:01, 61.03it/s]\n",
      "Scraped 55 of 200 subreddits\n",
      "Scraping from /r/nba2k: 100it [00:01, 56.36it/s]\n",
      "Scraped 56 of 200 subreddits\n",
      "Scraping from /r/thelastairbender: 100it [00:02, 34.44it/s]\n",
      "Scraped 57 of 200 subreddits\n",
      "Scraping from /r/nintendoswitch: 100it [00:02, 47.07it/s]\n",
      "Scraped 58 of 200 subreddits\n",
      "Scraping from /r/askmen: 100it [00:01, 66.71it/s]\n",
      "Scraped 59 of 200 subreddits\n",
      "Scraping from /r/destinythegame: 100it [00:02, 37.16it/s]\n",
      "Scraped 60 of 200 subreddits\n",
      "Scraping from /r/whatisthisthing: 100it [00:01, 57.66it/s]\n",
      "Scraped 61 of 200 subreddits\n",
      "Scraping from /r/whitepeopletwitter: 100it [00:02, 43.50it/s]\n",
      "Scraped 62 of 200 subreddits\n",
      "Scraping from /r/twitch: 100it [00:01, 65.14it/s]\n",
      "Scraped 63 of 200 subreddits\n",
      "Scraping from /r/murderedbywords: 0it [00:00, ?it/s]\n",
      "Scraped 64 of 200 subreddits\n"
     ]
    },
    {
     "name": "stdout",
     "output_type": "stream",
     "text": [
      "Subreddit murderedbywords forbidden\n"
     ]
    },
    {
     "name": "stderr",
     "output_type": "stream",
     "text": [
      "Scraping from /r/technology: 100it [00:01, 59.90it/s]\n",
      "Scraped 65 of 200 subreddits\n",
      "Scraping from /r/globaloffensive: 100it [00:02, 46.04it/s]\n",
      "Scraped 66 of 200 subreddits\n",
      "Scraping from /r/amd: 100it [00:01, 59.75it/s]\n",
      "Scraped 67 of 200 subreddits\n",
      "Scraping from /r/wellthatsucks: 100it [00:02, 46.53it/s]\n",
      "Scraped 68 of 200 subreddits\n",
      "Scraping from /r/mademesmile: 100it [00:03, 30.77it/s]\n",
      "Scraped 69 of 200 subreddits\n",
      "Scraping from /r/dota2: 100it [00:02, 49.28it/s]\n",
      "Scraped 70 of 200 subreddits\n",
      "Scraping from /r/ffxiv: 100it [00:02, 43.96it/s]\n",
      "Scraped 71 of 200 subreddits\n",
      "Scraping from /r/anime: 100it [00:02, 34.41it/s]\n",
      "Scraped 72 of 200 subreddits\n",
      "Scraping from /r/wallstreetbets: 100it [00:07, 12.57it/s]\n",
      "Scraped 73 of 200 subreddits\n",
      "Scraping from /r/discordapp: 0it [00:00, ?it/s]\n",
      "Scraped 74 of 200 subreddits\n"
     ]
    },
    {
     "name": "stdout",
     "output_type": "stream",
     "text": [
      "Subreddit discordapp forbidden\n"
     ]
    },
    {
     "name": "stderr",
     "output_type": "stream",
     "text": [
      "Scraping from /r/amitheasshole: 100it [00:02, 34.46it/s]\n",
      "Scraped 75 of 200 subreddits\n",
      "Scraping from /r/escapefromtarkov: 100it [00:01, 53.05it/s]\n",
      "Scraped 76 of 200 subreddits\n",
      "Scraping from /r/cringepics: 100it [00:01, 70.51it/s]\n",
      "Scraped 77 of 200 subreddits\n",
      "Scraping from /r/terraria: 100it [00:02, 43.05it/s]\n",
      "Scraped 78 of 200 subreddits\n",
      "Scraping from /r/pcmasterrace: 100it [00:02, 40.41it/s]\n",
      "Scraped 79 of 200 subreddits\n",
      "Scraping from /r/bad_cop_no_donut: 100it [00:02, 40.44it/s]\n",
      "Scraped 80 of 200 subreddits\n",
      "Scraping from /r/thatsinsane: 100it [00:01, 70.03it/s]\n",
      "Scraped 81 of 200 subreddits\n",
      "Scraping from /r/legaladvice: 100it [00:01, 70.52it/s]\n",
      "Scraped 82 of 200 subreddits\n",
      "Scraping from /r/outoftheloop: 100it [00:01, 68.85it/s]\n",
      "Scraped 83 of 200 subreddits\n",
      "Scraping from /r/iamatotalpieceofshit: 1it [00:01,  1.51s/it]"
     ]
    },
    {
     "name": "stdout",
     "output_type": "stream",
     "text": [
      "Error with comments from post m9gz3i\n"
     ]
    },
    {
     "name": "stderr",
     "output_type": "stream",
     "text": [
      "Scraping from /r/iamatotalpieceofshit: 100it [00:13,  7.30it/s]\n",
      "Scraped 84 of 200 subreddits\n",
      "Scraping from /r/wtf: 100it [00:01, 50.70it/s]\n",
      "Scraped 85 of 200 subreddits\n",
      "Scraping from /r/me_irl: 100it [00:02, 42.40it/s]\n",
      "Scraped 86 of 200 subreddits\n",
      "Scraping from /r/personalfinance: 100it [00:01, 53.43it/s]\n",
      "Scraped 87 of 200 subreddits\n",
      "Scraping from /r/blackpeopletwitter: 100it [00:02, 37.90it/s]\n",
      "Scraped 88 of 200 subreddits\n",
      "Scraping from /r/jailbreak: 0it [00:00, ?it/s]\n",
      "Scraped 89 of 200 subreddits\n"
     ]
    },
    {
     "name": "stdout",
     "output_type": "stream",
     "text": [
      "Subreddit jailbreak forbidden\n"
     ]
    },
    {
     "name": "stderr",
     "output_type": "stream",
     "text": [
      "Scraping from /r/unpopularopinion: 100it [00:02, 39.26it/s]\n",
      "Scraped 90 of 200 subreddits\n",
      "Scraping from /r/coronavirus: 0it [00:00, ?it/s]\n",
      "Scraped 91 of 200 subreddits\n"
     ]
    },
    {
     "name": "stdout",
     "output_type": "stream",
     "text": [
      "Subreddit coronavirus forbidden\n"
     ]
    },
    {
     "name": "stderr",
     "output_type": "stream",
     "text": [
      "Scraping from /r/livestreamfail: 100it [00:02, 39.40it/s]\n",
      "Scraped 92 of 200 subreddits\n",
      "Scraping from /r/xboxseriesx: 100it [00:01, 52.08it/s]\n",
      "Scraped 93 of 200 subreddits\n",
      "Scraping from /r/buildapc: 100it [00:01, 54.98it/s]\n",
      "Scraped 94 of 200 subreddits\n",
      "Scraping from /r/ps4: 100it [00:01, 52.32it/s]\n",
      "Scraped 95 of 200 subreddits\n",
      "Scraping from /r/movies: 100it [00:02, 47.95it/s]\n",
      "Scraped 96 of 200 subreddits\n",
      "Scraping from /r/wow: 100it [00:01, 54.75it/s]\n",
      "Scraped 97 of 200 subreddits\n",
      "Scraping from /r/justiceserved: 0it [00:00, ?it/s]\n",
      "Scraped 98 of 200 subreddits\n"
     ]
    },
    {
     "name": "stdout",
     "output_type": "stream",
     "text": [
      "Subreddit justiceserved forbidden\n"
     ]
    },
    {
     "name": "stderr",
     "output_type": "stream",
     "text": [
      "Scraping from /r/explainlikeimfive: 100it [00:00, 103.00it/s]\n",
      "Scraped 99 of 200 subreddits\n",
      "Scraping from /r/watchpeopledieinside: 100it [00:01, 62.42it/s]\n",
      "Scraped 100 of 200 subreddits\n",
      "Scraping from /r/art: 100it [00:02, 38.73it/s]\n",
      "Scraped 101 of 200 subreddits\n",
      "Scraping from /r/gifs: 100it [00:02, 49.88it/s]\n",
      "Scraped 102 of 200 subreddits\n",
      "Scraping from /r/memes: 100it [00:03, 31.74it/s]\n",
      "Scraped 103 of 200 subreddits\n",
      "Scraping from /r/minecraft: 100it [00:02, 39.85it/s]\n",
      "Scraped 104 of 200 subreddits\n",
      "Scraping from /r/gtaonline: 100it [00:02, 36.52it/s]\n",
      "Scraped 105 of 200 subreddits\n",
      "Scraping from /r/todayilearned: 100it [00:01, 50.55it/s]\n",
      "Scraped 106 of 200 subreddits\n",
      "Scraping from /r/aww: 100it [00:03, 30.31it/s]\n",
      "Scraped 107 of 200 subreddits\n",
      "Scraping from /r/gaming: 100it [00:02, 37.74it/s]\n",
      "Scraped 108 of 200 subreddits\n",
      "Scraping from /r/animalcrossing: 100it [00:02, 35.59it/s]\n",
      "Scraped 109 of 200 subreddits\n",
      "Scraping from /r/videos: 100it [00:02, 36.97it/s]\n",
      "Scraped 110 of 200 subreddits\n",
      "Scraping from /r/modernwarfare: 100it [00:01, 51.62it/s]\n",
      "Scraped 111 of 200 subreddits\n",
      "Scraping from /r/relationship_advice: 100it [00:01, 59.52it/s]\n",
      "Scraped 112 of 200 subreddits\n",
      "Scraping from /r/interestingasfuck: 100it [00:02, 38.66it/s]\n",
      "Scraped 113 of 200 subreddits\n",
      "Scraping from /r/tifu: 100it [00:02, 37.01it/s]\n",
      "Scraped 114 of 200 subreddits\n",
      "Scraping from /r/leagueoflegends: 100it [00:02, 41.91it/s]\n",
      "Scraped 115 of 200 subreddits\n",
      "Scraping from /r/nextfuckinglevel: 100it [00:03, 26.56it/s]\n",
      "Scraped 116 of 200 subreddits\n",
      "Scraping from /r/nostupidquestions: 100it [00:01, 67.47it/s]\n",
      "Scraped 117 of 200 subreddits\n",
      "Scraping from /r/funny: 100it [00:03, 33.05it/s]\n",
      "Scraped 118 of 200 subreddits\n",
      "Scraping from /r/worldnews: 100it [00:02, 43.51it/s]\n",
      "Scraped 119 of 200 subreddits\n",
      "Scraping from /r/news: 100it [00:02, 40.82it/s]\n",
      "Scraped 120 of 200 subreddits\n",
      "Scraping from /r/politics: 100it [00:03, 30.78it/s]\n",
      "Scraped 121 of 200 subreddits\n",
      "Scraping from /r/pics: 100it [00:03, 27.99it/s]\n",
      "Scraped 122 of 200 subreddits\n",
      "Scraping from /r/publicfreakout: 100it [00:03, 29.65it/s]\n",
      "Scraped 123 of 200 subreddits\n",
      "Scraping from /r/askreddit: 100it [00:02, 42.72it/s]\n",
      "Scraped 124 of 200 subreddits\n",
      "Scraping from /r/slowcooking: 100it [00:01, 58.45it/s]\n",
      "Scraped 125 of 200 subreddits\n",
      "Scraping from /r/makeupaddiction: 100it [00:02, 45.64it/s]\n",
      "Scraped 126 of 200 subreddits\n",
      "Scraping from /r/soccer: 100it [00:02, 44.82it/s]\n",
      "Scraped 127 of 200 subreddits\n",
      "Scraping from /r/cats: 100it [00:02, 35.12it/s]\n",
      "Scraped 128 of 200 subreddits\n",
      "Scraping from /r/woodworking: 100it [00:03, 25.84it/s]\n",
      "Scraped 129 of 200 subreddits\n",
      "Scraping from /r/eatcheapandhealthy: 100it [00:01, 63.40it/s]\n",
      "Scraped 130 of 200 subreddits\n",
      "Scraping from /r/gifrecipes: 62it [00:01, 60.85it/s]\n",
      "Scraped 131 of 200 subreddits\n",
      "Scraping from /r/bettereveryloop: 29it [00:00, 38.60it/s]\n",
      "Scraped 132 of 200 subreddits\n",
      "Scraping from /r/loseit: 100it [00:02, 48.91it/s]\n",
      "Scraped 133 of 200 subreddits\n",
      "Scraping from /r/nonononoyes: 100it [00:02, 38.67it/s]\n",
      "Scraped 134 of 200 subreddits\n",
      "Scraping from /r/atheism: 100it [00:01, 57.15it/s]\n",
      "Scraped 135 of 200 subreddits\n",
      "Scraping from /r/youshouldknow: 100it [00:01, 55.81it/s]\n",
      "Scraped 136 of 200 subreddits\n",
      "Scraping from /r/rarepuppers: 100it [00:02, 45.47it/s]\n",
      "Scraped 137 of 200 subreddits\n",
      "Scraping from /r/gameofthrones: 100it [00:01, 70.02it/s]\n",
      "Scraped 138 of 200 subreddits\n",
      "Scraping from /r/games: 100it [02:33,  1.53s/it]\n",
      "Scraped 139 of 200 subreddits\n",
      "Scraping from /r/malefashionadvice: 100it [02:02,  1.22s/it]\n",
      "Scraped 140 of 200 subreddits\n",
      "Scraping from /r/itookapicture: 100it [02:18,  1.38s/it]\n",
      "Scraped 141 of 200 subreddits\n",
      "Scraping from /r/drawing: 100it [02:27,  1.48s/it]\n",
      "Scraped 142 of 200 subreddits\n",
      "Scraping from /r/iphone: 0it [00:00, ?it/s]\n",
      "Scraped 143 of 200 subreddits\n"
     ]
    },
    {
     "name": "stdout",
     "output_type": "stream",
     "text": [
      "Subreddit iphone forbidden\n"
     ]
    },
    {
     "name": "stderr",
     "output_type": "stream",
     "text": [
      "Scraping from /r/damnthatsinteresting: 100it [02:48,  1.69s/it]\n",
      "Scraped 144 of 200 subreddits\n",
      "Scraping from /r/pokemongo: 0it [00:00, ?it/s]\n",
      "Scraped 145 of 200 subreddits\n"
     ]
    },
    {
     "name": "stdout",
     "output_type": "stream",
     "text": [
      "Subreddit pokemongo forbidden\n"
     ]
    },
    {
     "name": "stderr",
     "output_type": "stream",
     "text": [
      "Scraping from /r/parenting: 22it [00:32,  1.34s/it]"
     ]
    }
   ],
   "source": [
    "s.scrape_top_subreddits(time_filter='month', limit=100)"
   ]
  },
  {
   "cell_type": "code",
   "execution_count": null,
   "metadata": {},
   "outputs": [],
   "source": [
    "\n",
    "comments_df = pd.read_sql(\"select * from comment\",conn)\n",
    "g = comments_df.groupby('post_id')\n",
    "#Sort the comments for each post in ascending order\n",
    "comments_df['RN'] = g['comment_created'].rank(method='first')\n",
    "#Create a variable for the comment number within each post\n",
    "comments_with_nazi_df = comments_df[comments_df.nazi_in_comment == 1]\n",
    "#Identify posts where there is a mention of Nazi\n",
    "nazi_posts = comments_with_nazi_df['post_id'].unique()\n",
    "\n",
    "#In cases where there is a comparison with Nazis or Hitler, identify the first comment \n",
    "#where the comparison is made\n",
    "mins = comments_with_nazi_df.groupby('post_id')['RN'].idxmin()\n",
    "first_nazi_comment = comments_with_nazi_df.loc[mins]\n",
    "\n",
    "right_censored_posts = comments_df[comments_df.post_id.isin(nazi_posts) == False]\n",
    "maxes = right_censored_posts.groupby('post_id')['RN'].idxmax()\n",
    "final_comment = right_censored_posts.loc[maxes]\n",
    "\n",
    "#combine the censored posts with those where a comparison is made\n",
    "concatenated = pd.concat([first_nazi_comment,final_comment])\n",
    "\n",
    "T = concatenated['RN']\n",
    "E = concatenated['nazi_in_comment']\n",
    "\n",
    "from lifelines import KaplanMeierFitter\n",
    "kmf = KaplanMeierFitter()\n",
    "kmf.fit(T, event_observed=E)\n",
    "kmf.plot()\n",
    "\n",
    "plt.xlim(0,2000);\n",
    "plt.title(\"Reddit Post Lifespan Prior to Mention of Nazi or Hitler\");\n",
    "plt.xlabel(\"Comments\")\n",
    "plt.ylabel(\"Fraciton of Posts Without Mention of Hitler or Nazis\")"
   ]
  }
 ],
 "metadata": {
  "kernelspec": {
   "display_name": "Python 3",
   "language": "python",
   "name": "python3"
  },
  "language_info": {
   "codemirror_mode": {
    "name": "ipython",
    "version": 3
   },
   "file_extension": ".py",
   "mimetype": "text/x-python",
   "name": "python",
   "nbconvert_exporter": "python",
   "pygments_lexer": "ipython3",
   "version": "3.6.9"
  }
 },
 "nbformat": 4,
 "nbformat_minor": 2
}
