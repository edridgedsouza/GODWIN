{
 "cells": [
  {
   "cell_type": "code",
   "execution_count": 1,
   "id": "cutting-remark",
   "metadata": {
    "ExecuteTime": {
     "end_time": "2021-03-24T03:12:47.332917Z",
     "start_time": "2021-03-24T03:12:46.709230Z"
    }
   },
   "outputs": [],
   "source": [
    "# -*- coding: utf-8 -*-\n",
    "\"\"\"\n",
    "Second Jupyter notebook as a working copy for when the first one is busy scraping\n",
    "\n",
    "\"\"\"\n",
    "\n",
    "import pandas as pd\n",
    "import matplotlib.pyplot as plt\n",
    "#import csv\n",
    "\n",
    "import sqlite3\n",
    "from godwin import Scraper, Database\n",
    "import requests\n",
    "from lxml import html\n",
    "\n",
    "db = Database('Godwin.db')"
   ]
  },
  {
   "cell_type": "code",
   "execution_count": null,
   "id": "experienced-transsexual",
   "metadata": {},
   "outputs": [],
   "source": []
  }
 ],
 "metadata": {
  "kernelspec": {
   "display_name": "Python 3",
   "language": "python",
   "name": "python3"
  },
  "language_info": {
   "codemirror_mode": {
    "name": "ipython",
    "version": 3
   },
   "file_extension": ".py",
   "mimetype": "text/x-python",
   "name": "python",
   "nbconvert_exporter": "python",
   "pygments_lexer": "ipython3",
   "version": "3.6.9"
  }
 },
 "nbformat": 4,
 "nbformat_minor": 5
}
